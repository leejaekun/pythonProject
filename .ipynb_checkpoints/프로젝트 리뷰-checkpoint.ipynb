{
 "cells": [
  {
   "cell_type": "markdown",
   "id": "a83174a7",
   "metadata": {},
   "source": [
    "# Project 에 대한 설명\n",
    "## 목적 \n",
    "Magtrol사의 다이나모에서 얻는 전동기 측정 데이타를 나름 간단하게 데이타를 정리하고,\n",
    "그래프 출력을 하루 수 있도록 프로그램 제작."
   ]
  },
  {
   "cell_type": "code",
   "execution_count": 1,
   "id": "28877c89",
   "metadata": {},
   "outputs": [
    {
     "name": "stdout",
     "output_type": "stream",
     "text": [
      "시험\n"
     ]
    }
   ],
   "source": [
    "print(\"시험\")"
   ]
  },
  {
   "cell_type": "code",
   "execution_count": null,
   "id": "c6937c26",
   "metadata": {},
   "outputs": [],
   "source": []
  }
 ],
 "metadata": {
  "kernelspec": {
   "display_name": "Python 3 (ipykernel)",
   "language": "python",
   "name": "python3"
  },
  "language_info": {
   "codemirror_mode": {
    "name": "ipython",
    "version": 3
   },
   "file_extension": ".py",
   "mimetype": "text/x-python",
   "name": "python",
   "nbconvert_exporter": "python",
   "pygments_lexer": "ipython3",
   "version": "3.9.10"
  }
 },
 "nbformat": 4,
 "nbformat_minor": 5
}
